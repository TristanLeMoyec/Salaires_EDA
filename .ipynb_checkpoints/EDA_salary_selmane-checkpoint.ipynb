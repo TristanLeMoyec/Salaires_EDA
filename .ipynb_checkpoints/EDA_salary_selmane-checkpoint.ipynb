{
 "cells": [
  {
   "cell_type": "markdown",
   "id": "fb0182cb",
   "metadata": {},
   "source": [
    "# Contexte du projet"
   ]
  },
  {
   "cell_type": "markdown",
   "id": "9065a281",
   "metadata": {},
   "source": [
    "Un dataset comportant différents indicateurs a pu être récupérer par votre entreprise spécialisée dans le recrutement RH des profils Data.\n",
    "\n",
    "Elle souhaiterait avoir une analyse complète des métiers et des salaires dans cette branche."
   ]
  },
  {
   "cell_type": "markdown",
   "id": "f68c0e0a",
   "metadata": {},
   "source": [
    "# Import"
   ]
  },
  {
   "cell_type": "markdown",
   "id": "ab7daf21",
   "metadata": {},
   "source": [
    "## Imports des librairies"
   ]
  },
  {
   "cell_type": "code",
   "execution_count": 1,
   "id": "901ba71a",
   "metadata": {},
   "outputs": [],
   "source": [
    "import pandas as pd\n",
    "import numpy as np \n",
    "import seaborn as sns \n",
    "import matplotlib.pyplot as plt \n",
    "import plotly.graph_objects as go"
   ]
  },
  {
   "cell_type": "markdown",
   "id": "34d35efe",
   "metadata": {},
   "source": [
    "## Imports des données"
   ]
  },
  {
   "cell_type": "code",
   "execution_count": 2,
   "id": "9e5ab723",
   "metadata": {},
   "outputs": [],
   "source": [
    "df = pd.read_csv(\"ds_salaries.csv\")"
   ]
  },
  {
   "cell_type": "markdown",
   "id": "f2f94a8e",
   "metadata": {},
   "source": [
    "On a modifié quelques données d'entrée pour avoir une meilleur compréhension des valeurs, colonnes modifiées :\n",
    "- Company_location\n",
    "- employee_residence\n",
    "- employment_type\n",
    "- experience_level\n",
    "- salary et salary_currency on été drop"
   ]
  },
  {
   "cell_type": "code",
   "execution_count": 3,
   "id": "a1b34714",
   "metadata": {},
   "outputs": [],
   "source": [
    "df_pays = pd.read_csv('pays.csv')\n",
    "df_monnaie = pd.read_csv('codes_salaires.csv')\n",
    "df_monnaie=df_monnaie.drop(['Entity','NumericCode','MinorUnit','WithdrawalDate'],axis=1)\n",
    "\n",
    "df = df.merge(df_pays, how='inner', left_on='company_location', right_on='Code').drop(['Code','company_location'], axis=1).rename(columns={'Name': 'Company_location'})\n",
    "df = df.merge(df_pays, how='inner', left_on='employee_residence', right_on='Code').drop(['Code','employee_residence'], axis=1).rename(columns={'Name': 'employee_residence'})\n",
    "df = df.drop(['salary','salary_currency'], axis=1)\n",
    "mapping_dict = {'FT': 'full time', 'PT': 'part time', 'CT': 'Contract', 'FL': 'Freelance'}\n",
    "df['employment_type'] = df['employment_type'].replace(mapping_dict)\n",
    "\n",
    "mapping_dict = {'EN': 'Junior', 'MI': 'Intermediate', 'SE': 'Expert', 'EX': 'Director'}\n",
    "df['experience_level'] = df['experience_level'].replace(mapping_dict)"
   ]
  },
  {
   "cell_type": "markdown",
   "id": "c9a1efa8",
   "metadata": {},
   "source": [
    "# EDA"
   ]
  },
  {
   "cell_type": "markdown",
   "id": "9eab8996",
   "metadata": {},
   "source": [
    "## basic info"
   ]
  },
  {
   "cell_type": "markdown",
   "id": "4b9b515e",
   "metadata": {},
   "source": [
    "On regarde vaguement le nom des colonnes du dataframe"
   ]
  },
  {
   "cell_type": "code",
   "execution_count": 4,
   "id": "6072895d",
   "metadata": {},
   "outputs": [
    {
     "data": {
      "text/plain": [
       "Index(['Unnamed: 0', 'work_year', 'experience_level', 'employment_type',\n",
       "       'job_title', 'salary_in_usd', 'remote_ratio', 'company_size',\n",
       "       'Company_location', 'employee_residence'],\n",
       "      dtype='object')"
      ]
     },
     "execution_count": 4,
     "metadata": {},
     "output_type": "execute_result"
    }
   ],
   "source": [
    "df.columns"
   ]
  },
  {
   "cell_type": "code",
   "execution_count": 5,
   "id": "064c8f97",
   "metadata": {},
   "outputs": [
    {
     "name": "stdout",
     "output_type": "stream",
     "text": [
      "<class 'pandas.core.frame.DataFrame'>\n",
      "Int64Index: 607 entries, 0 to 606\n",
      "Data columns (total 10 columns):\n",
      " #   Column              Non-Null Count  Dtype \n",
      "---  ------              --------------  ----- \n",
      " 0   Unnamed: 0          607 non-null    int64 \n",
      " 1   work_year           607 non-null    int64 \n",
      " 2   experience_level    607 non-null    object\n",
      " 3   employment_type     607 non-null    object\n",
      " 4   job_title           607 non-null    object\n",
      " 5   salary_in_usd       607 non-null    int64 \n",
      " 6   remote_ratio        607 non-null    int64 \n",
      " 7   company_size        607 non-null    object\n",
      " 8   Company_location    607 non-null    object\n",
      " 9   employee_residence  607 non-null    object\n",
      "dtypes: int64(4), object(6)\n",
      "memory usage: 52.2+ KB\n"
     ]
    }
   ],
   "source": [
    "df.info()"
   ]
  },
  {
   "cell_type": "markdown",
   "id": "024c8549",
   "metadata": {},
   "source": [
    "info: \n",
    "- 607 observations, 12 columns\n",
    "- 5 numericcal columns (int), 7 categorical columns (object)\n",
    "- pas de missing values"
   ]
  },
  {
   "cell_type": "markdown",
   "id": "c573b29c",
   "metadata": {},
   "source": [
    "describe nous permet d'avoir les principales statistiques de nos colonnes numériques"
   ]
  },
  {
   "cell_type": "code",
   "execution_count": 6,
   "id": "568601dc",
   "metadata": {},
   "outputs": [
    {
     "data": {
      "text/html": [
       "<div>\n",
       "<style scoped>\n",
       "    .dataframe tbody tr th:only-of-type {\n",
       "        vertical-align: middle;\n",
       "    }\n",
       "\n",
       "    .dataframe tbody tr th {\n",
       "        vertical-align: top;\n",
       "    }\n",
       "\n",
       "    .dataframe thead th {\n",
       "        text-align: right;\n",
       "    }\n",
       "</style>\n",
       "<table border=\"1\" class=\"dataframe\">\n",
       "  <thead>\n",
       "    <tr style=\"text-align: right;\">\n",
       "      <th></th>\n",
       "      <th>Unnamed: 0</th>\n",
       "      <th>work_year</th>\n",
       "      <th>salary_in_usd</th>\n",
       "      <th>remote_ratio</th>\n",
       "    </tr>\n",
       "  </thead>\n",
       "  <tbody>\n",
       "    <tr>\n",
       "      <th>count</th>\n",
       "      <td>607.000000</td>\n",
       "      <td>607.000000</td>\n",
       "      <td>607.000000</td>\n",
       "      <td>607.00000</td>\n",
       "    </tr>\n",
       "    <tr>\n",
       "      <th>mean</th>\n",
       "      <td>303.000000</td>\n",
       "      <td>2021.405272</td>\n",
       "      <td>112297.869852</td>\n",
       "      <td>70.92257</td>\n",
       "    </tr>\n",
       "    <tr>\n",
       "      <th>std</th>\n",
       "      <td>175.370085</td>\n",
       "      <td>0.692133</td>\n",
       "      <td>70957.259411</td>\n",
       "      <td>40.70913</td>\n",
       "    </tr>\n",
       "    <tr>\n",
       "      <th>min</th>\n",
       "      <td>0.000000</td>\n",
       "      <td>2020.000000</td>\n",
       "      <td>2859.000000</td>\n",
       "      <td>0.00000</td>\n",
       "    </tr>\n",
       "    <tr>\n",
       "      <th>25%</th>\n",
       "      <td>151.500000</td>\n",
       "      <td>2021.000000</td>\n",
       "      <td>62726.000000</td>\n",
       "      <td>50.00000</td>\n",
       "    </tr>\n",
       "    <tr>\n",
       "      <th>50%</th>\n",
       "      <td>303.000000</td>\n",
       "      <td>2022.000000</td>\n",
       "      <td>101570.000000</td>\n",
       "      <td>100.00000</td>\n",
       "    </tr>\n",
       "    <tr>\n",
       "      <th>75%</th>\n",
       "      <td>454.500000</td>\n",
       "      <td>2022.000000</td>\n",
       "      <td>150000.000000</td>\n",
       "      <td>100.00000</td>\n",
       "    </tr>\n",
       "    <tr>\n",
       "      <th>max</th>\n",
       "      <td>606.000000</td>\n",
       "      <td>2022.000000</td>\n",
       "      <td>600000.000000</td>\n",
       "      <td>100.00000</td>\n",
       "    </tr>\n",
       "  </tbody>\n",
       "</table>\n",
       "</div>"
      ],
      "text/plain": [
       "       Unnamed: 0    work_year  salary_in_usd  remote_ratio\n",
       "count  607.000000   607.000000     607.000000     607.00000\n",
       "mean   303.000000  2021.405272  112297.869852      70.92257\n",
       "std    175.370085     0.692133   70957.259411      40.70913\n",
       "min      0.000000  2020.000000    2859.000000       0.00000\n",
       "25%    151.500000  2021.000000   62726.000000      50.00000\n",
       "50%    303.000000  2022.000000  101570.000000     100.00000\n",
       "75%    454.500000  2022.000000  150000.000000     100.00000\n",
       "max    606.000000  2022.000000  600000.000000     100.00000"
      ]
     },
     "execution_count": 6,
     "metadata": {},
     "output_type": "execute_result"
    }
   ],
   "source": [
    "df.describe()"
   ]
  },
  {
   "cell_type": "markdown",
   "id": "65a4c4d2",
   "metadata": {},
   "source": [
    "### duplicated"
   ]
  },
  {
   "cell_type": "code",
   "execution_count": 7,
   "id": "35b226d6",
   "metadata": {},
   "outputs": [
    {
     "data": {
      "text/plain": [
       "0"
      ]
     },
     "execution_count": 7,
     "metadata": {},
     "output_type": "execute_result"
    }
   ],
   "source": [
    "df.duplicated().sum()"
   ]
  },
  {
   "cell_type": "markdown",
   "id": "25ad5b3d",
   "metadata": {},
   "source": [
    "Nous n'avons pas de duplicated dans notre dataframe"
   ]
  },
  {
   "cell_type": "markdown",
   "id": "df9d4734",
   "metadata": {},
   "source": [
    "### Missing values"
   ]
  },
  {
   "cell_type": "code",
   "execution_count": 8,
   "id": "11d1be62",
   "metadata": {},
   "outputs": [
    {
     "data": {
      "text/plain": [
       "Unnamed: 0            0\n",
       "work_year             0\n",
       "experience_level      0\n",
       "employment_type       0\n",
       "job_title             0\n",
       "salary_in_usd         0\n",
       "remote_ratio          0\n",
       "company_size          0\n",
       "Company_location      0\n",
       "employee_residence    0\n",
       "dtype: int64"
      ]
     },
     "execution_count": 8,
     "metadata": {},
     "output_type": "execute_result"
    }
   ],
   "source": [
    "df.isnull().sum()"
   ]
  },
  {
   "cell_type": "markdown",
   "id": "c1b4b5c2",
   "metadata": {},
   "source": [
    "Pas de missing value "
   ]
  },
  {
   "cell_type": "markdown",
   "id": "422e9a84",
   "metadata": {},
   "source": [
    "### categorical columns"
   ]
  },
  {
   "cell_type": "markdown",
   "id": "667dd711",
   "metadata": {},
   "source": [
    "Pour avoir une vue plus détaillée des différentes catégories de chaque colonne, on décide de le print avec une boucle."
   ]
  },
  {
   "cell_type": "code",
   "execution_count": 9,
   "id": "94172f61",
   "metadata": {
    "scrolled": true
   },
   "outputs": [
    {
     "name": "stdout",
     "output_type": "stream",
     "text": [
      "================work_year======================>\n",
      "[2020 2021 2022]\n",
      "================experience_level======================>\n",
      "['Intermediate' 'Junior' 'Expert' 'Director']\n",
      "================job_title======================>\n",
      "['Data Scientist' 'Data Engineering Manager' 'ML Engineer'\n",
      " 'Principal Data Scientist' 'Data Analytics Engineer'\n",
      " 'Data Science Consultant' 'Machine Learning Engineer'\n",
      " 'Director of Data Science' 'Data Analyst' 'Data Engineer'\n",
      " 'Lead Machine Learning Engineer' 'Computer Vision Software Engineer'\n",
      " 'AI Scientist' 'Machine Learning Scientist' 'Research Scientist'\n",
      " 'Big Data Engineer' 'Director of Data Engineering' 'Lead Data Engineer'\n",
      " 'Applied Data Scientist' 'Finance Data Analyst'\n",
      " 'Applied Machine Learning Scientist' 'Product Data Analyst'\n",
      " 'Lead Data Scientist' 'Business Data Analyst' 'Lead Data Analyst'\n",
      " 'BI Data Analyst' 'Data Science Manager' 'Head of Data'\n",
      " 'Financial Data Analyst' 'Principal Data Engineer'\n",
      " 'Data Analytics Manager' 'Data Specialist' 'Data Architect'\n",
      " 'Machine Learning Infrastructure Engineer' 'Head of Data Science'\n",
      " 'Principal Data Analyst' 'Staff Data Scientist' 'Analytics Engineer'\n",
      " 'Computer Vision Engineer' 'NLP Engineer' 'Data Analytics Lead'\n",
      " 'Data Science Engineer' 'ETL Developer' 'Marketing Data Analyst'\n",
      " '3D Computer Vision Researcher' 'Head of Machine Learning'\n",
      " 'Cloud Data Engineer' 'Machine Learning Manager' 'Big Data Architect'\n",
      " 'Machine Learning Developer']\n",
      "================remote_ratio======================>\n",
      "[  0 100  50]\n",
      "================company_size======================>\n",
      "['L' 'S' 'M']\n",
      "================Company_location======================>\n",
      "['Germany' 'United States' 'Austria' 'Pakistan' 'Netherlands' 'France'\n",
      " 'Spain' 'Luxembourg' 'Japan' 'Malaysia' 'United Kingdom' 'Canada'\n",
      " 'Poland' 'Viet Nam' 'Honduras' 'Portugal' 'Greece' 'Denmark'\n",
      " 'Russian Federation' 'Romania' 'India' 'Switzerland' 'American Samoa'\n",
      " 'Brazil' 'Hungary' 'Italy' 'New Zealand' 'China' 'United Arab Emirates'\n",
      " 'Mexico' 'Nigeria' 'Croatia' 'Singapore' 'Israel' 'Iraq' 'Belgium'\n",
      " 'Ukraine' 'Malta' 'Chile' 'Iran, Islamic Republic of' 'Colombia'\n",
      " 'Moldova, Republic of' 'Kenya' 'Slovenia' 'Turkey' 'Czech Republic'\n",
      " 'Algeria' 'Estonia' 'Australia' 'Ireland']\n",
      "================company_size======================>\n",
      "['L' 'S' 'M']\n",
      "================employee_residence======================>\n",
      "['Germany' 'Pakistan' 'Serbia' 'Netherlands' 'France' 'Japan'\n",
      " 'United Kingdom' 'Poland' 'Viet Nam' 'Romania' 'Hong Kong' 'Honduras'\n",
      " 'United States' 'Portugal' 'Greece' 'Philippines' 'Russian Federation'\n",
      " 'Spain' 'India' 'Bulgaria' 'Brazil' 'Hungary' 'Italy' 'Puerto Rico'\n",
      " 'Canada' 'Malaysia' 'Bolivia, Plurinational State of' 'New Zealand'\n",
      " 'China' 'Jersey' 'United Arab Emirates' 'Mexico' 'Argentina' 'Austria'\n",
      " 'Nigeria' 'Denmark' 'Croatia' 'Luxembourg' 'Singapore' 'Iraq' 'Belgium'\n",
      " 'Ukraine' 'Malta' 'Chile' 'Iran, Islamic Republic of' 'Colombia'\n",
      " 'Moldova, Republic of' 'Kenya' 'Slovenia' 'Switzerland' 'Turkey'\n",
      " 'Czech Republic' 'Tunisia' 'Algeria' 'Estonia' 'Australia' 'Ireland']\n"
     ]
    }
   ],
   "source": [
    "col = [\"work_year\", \"experience_level\", \"job_title\", \"remote_ratio\", \"company_size\", \"Company_location\",\n",
    "      \"company_size\", \"employee_residence\"]\n",
    "\n",
    "for i in col:\n",
    "    print(f\"================{i}======================>\")\n",
    "    print(df[i].unique())"
   ]
  },
  {
   "cell_type": "markdown",
   "id": "34913c86",
   "metadata": {},
   "source": [
    "### modifs columns"
   ]
  },
  {
   "cell_type": "markdown",
   "id": "b319210d",
   "metadata": {},
   "source": [
    "On modifie le nom de la colonne \"Unnamed: 0\" en \"id\""
   ]
  },
  {
   "cell_type": "code",
   "execution_count": 10,
   "id": "454de7ae",
   "metadata": {},
   "outputs": [],
   "source": [
    "df = df.rename(columns = {'Unnamed: 0': 'id'})"
   ]
  },
  {
   "cell_type": "markdown",
   "id": "fb6d6ce6",
   "metadata": {},
   "source": [
    "modif de job title : On trop de métier qui représente la même chose, nous avons donc décidé, avec l'aide d'une expert RH, de les regrouper en 9 métier principaux."
   ]
  },
  {
   "cell_type": "code",
   "execution_count": 11,
   "id": "a3551cdd",
   "metadata": {},
   "outputs": [],
   "source": [
    "def regroup_job(df):\n",
    "    new_df = df.copy()\n",
    "    replace_names = {'ML Engineer': ['Machine Learning Engineer', 'Machine Learning Scientist', 'ML Engineer', \n",
    "                                     'Applied Machine Learning Scientist', 'Machine Learning Developer', \n",
    "                                     'Machine Learning Infrastructure Engineer', 'Applied ML Engineer'],\n",
    "                     'Data Scientist': ['Data Scientist', 'Research Scientist', 'AI Scientist', 'Data Science Consultant',\n",
    "                                        'Computer Vision Engineer', 'Applied Data Scientist', 'Computer Vision Software Engineer',\n",
    "                                        'Data Science Engineer', 'NLP Engineer', '3D Computer Vision Researcher', \n",
    "                                        'Staff Data Scientist'],\n",
    "                     'Data Analytics Manager': ['Data Analytics Manager', 'Lead Data Analyst', 'Principal Data Analyst', \n",
    "                                               'Data Analytics Lead'],\n",
    "                     'Machine Learning Manager': ['Lead Machine Learning Engineer', 'Head of Machine Learning', \n",
    "                                                  'Machine Learning Manager', 'Lead ML Engineer'],\n",
    "                     'Data Engineer': ['Big Data Engineer', 'Analytics Engineer', 'Data Analytics Engineer', 'Data Data Engineer'],\n",
    "                     'Data Analyst': ['BI Data Analyst', 'Product Data Analyst', 'Financial Data Analyst', 'Finance Data Analyst',\n",
    "                                      'Marketing Data Analyst', 'Business Data Analyst', 'Data Specialist'],\n",
    "                     'Data Science Manager': ['Principal Data Scientist', 'Director of Data Science', 'Head of Data Science', \n",
    "                                              'Head of Data'],\n",
    "                     'Lead Data Engineer': ['Data Engineering Manager', 'Lead Data Scientist', 'Principal Data Engineer',\n",
    "                                            'Director of Data Engineering'],\n",
    "                     'Data Architect': ['ETL Developer', 'Cloud Data Engineer', 'Big Data Architect']\n",
    "                    }\n",
    "\n",
    "    for replace_name, name_list in replace_names.items():\n",
    "        for name in name_list:\n",
    "            new_df['job_title'] = new_df['job_title'].replace(name, replace_name)\n",
    "    \n",
    "    return new_df"
   ]
  },
  {
   "cell_type": "code",
   "execution_count": 12,
   "id": "a31e3c2f",
   "metadata": {},
   "outputs": [],
   "source": [
    "new_df = regroup_job(df)"
   ]
  },
  {
   "cell_type": "code",
   "execution_count": 13,
   "id": "b79a8f9b",
   "metadata": {},
   "outputs": [
    {
     "data": {
      "text/plain": [
       "Data Scientist              193\n",
       "Data Engineer               148\n",
       "Data Analyst                115\n",
       "ML Engineer                  65\n",
       "Data Science Manager         35\n",
       "Lead Data Engineer           19\n",
       "Data Architect               16\n",
       "Data Analytics Manager       13\n",
       "Machine Learning Manager      3\n",
       "Name: job_title, dtype: int64"
      ]
     },
     "execution_count": 13,
     "metadata": {},
     "output_type": "execute_result"
    }
   ],
   "source": [
    "new_df[\"job_title\"].value_counts()"
   ]
  },
  {
   "cell_type": "markdown",
   "id": "bc323b67",
   "metadata": {},
   "source": [
    "## Vizualization"
   ]
  },
  {
   "cell_type": "markdown",
   "id": "b0716646",
   "metadata": {},
   "source": [
    "Pie chart pour voir la proportion des différents métiers dans l'entreprise"
   ]
  },
  {
   "cell_type": "code",
   "execution_count": 14,
   "id": "6f1a8d7b",
   "metadata": {},
   "outputs": [
    {
     "data": {
      "text/plain": [
       "Data Scientist              193\n",
       "Data Engineer               148\n",
       "Data Analyst                115\n",
       "ML Engineer                  65\n",
       "Data Science Manager         35\n",
       "Lead Data Engineer           19\n",
       "Data Architect               16\n",
       "Data Analytics Manager       13\n",
       "Machine Learning Manager      3\n",
       "Name: job_title, dtype: int64"
      ]
     },
     "execution_count": 14,
     "metadata": {},
     "output_type": "execute_result"
    }
   ],
   "source": [
    "new_df[\"job_title\"].value_counts()"
   ]
  },
  {
   "cell_type": "code",
   "execution_count": 15,
   "id": "5a05b3c0",
   "metadata": {},
   "outputs": [
    {
     "data": {
      "image/png": "[encoded data removed]",
      "text/plain": [
       "<Figure size 1000x700 with 1 Axes>"
      ]
     },
     "metadata": {},
     "output_type": "display_data"
    }
   ],
   "source": [
    "job_x = new_df[\"job_title\"].value_counts()\n",
    "sorted_job = sorted(job_x, reverse=False)\n",
    "top_5_job = sorted_job[-5:]\n",
    "name = [\"Machine Learning Manager\", \"Data Analytics Manager\" , \"Data Architect\" ,\"Lead Data Engineer\", \"Data Science Manager\",  \"ML Engineer\", \"Data Analyst\", \"Data Engineer\", \"Data Scientist\"]\n",
    "colors = sns.color_palette(\"hls\", 8)\n",
    "\n",
    "\n",
    "fig, ax = plt.subplots(figsize = (10, 7))\n",
    "\n",
    "ax.barh(name, sorted_job, color = colors)\n",
    "\n",
    "ax.set_title(\"Nombre de salariés des métiers les plus représentés\")\n",
    "ax.set_ylabel(\"Nombre de Salariés\")\n",
    "ax.set_xlabel(\"Job\")\n",
    "plt.tick_params(axis = 'both', labelsize = 8)\n",
    "\n",
    "plt.show()"
   ]
  },
  {
   "cell_type": "markdown",
   "id": "31ad45f9",
   "metadata": {},
   "source": [
    "Observation : \n",
    "- On peut voir que les Data Scientist (193) est le métier le plus populaire dans la data\n",
    "- Il y'a aussi beaucoup de Data Engineer (148) et Data Analyst (100) \n",
    "- Avec les Machine Learning Engineer et ML Engineer qui occupe aussi une petite part dans le marché de la data"
   ]
  },
  {
   "cell_type": "markdown",
   "id": "8924de09",
   "metadata": {},
   "source": [
    "Moyenne des salaires"
   ]
  },
  {
   "cell_type": "code",
   "execution_count": 16,
   "id": "8e5ce7d7",
   "metadata": {},
   "outputs": [
    {
     "data": {
      "text/html": [
       "<div>\n",
       "<style scoped>\n",
       "    .dataframe tbody tr th:only-of-type {\n",
       "        vertical-align: middle;\n",
       "    }\n",
       "\n",
       "    .dataframe tbody tr th {\n",
       "        vertical-align: top;\n",
       "    }\n",
       "\n",
       "    .dataframe thead th {\n",
       "        text-align: right;\n",
       "    }\n",
       "</style>\n",
       "<table border=\"1\" class=\"dataframe\">\n",
       "  <thead>\n",
       "    <tr style=\"text-align: right;\">\n",
       "      <th></th>\n",
       "      <th>salary_in_usd</th>\n",
       "    </tr>\n",
       "    <tr>\n",
       "      <th>job_title</th>\n",
       "      <th></th>\n",
       "    </tr>\n",
       "  </thead>\n",
       "  <tbody>\n",
       "    <tr>\n",
       "      <th>Data Analyst</th>\n",
       "      <td>93341.182609</td>\n",
       "    </tr>\n",
       "    <tr>\n",
       "      <th>Data Analytics Manager</th>\n",
       "      <td>139734.538462</td>\n",
       "    </tr>\n",
       "    <tr>\n",
       "      <th>Data Architect</th>\n",
       "      <td>150970.250000</td>\n",
       "    </tr>\n",
       "    <tr>\n",
       "      <th>Data Engineer</th>\n",
       "      <td>109828.979730</td>\n",
       "    </tr>\n",
       "    <tr>\n",
       "      <th>Data Science Manager</th>\n",
       "      <td>175995.571429</td>\n",
       "    </tr>\n",
       "    <tr>\n",
       "      <th>Data Scientist</th>\n",
       "      <td>103625.170984</td>\n",
       "    </tr>\n",
       "    <tr>\n",
       "      <th>Lead Data Engineer</th>\n",
       "      <td>163080.473684</td>\n",
       "    </tr>\n",
       "    <tr>\n",
       "      <th>ML Engineer</th>\n",
       "      <td>113872.338462</td>\n",
       "    </tr>\n",
       "    <tr>\n",
       "      <th>Machine Learning Manager</th>\n",
       "      <td>94691.666667</td>\n",
       "    </tr>\n",
       "  </tbody>\n",
       "</table>\n",
       "</div>"
      ],
      "text/plain": [
       "                          salary_in_usd\n",
       "job_title                              \n",
       "Data Analyst               93341.182609\n",
       "Data Analytics Manager    139734.538462\n",
       "Data Architect            150970.250000\n",
       "Data Engineer             109828.979730\n",
       "Data Science Manager      175995.571429\n",
       "Data Scientist            103625.170984\n",
       "Lead Data Engineer        163080.473684\n",
       "ML Engineer               113872.338462\n",
       "Machine Learning Manager   94691.666667"
      ]
     },
     "execution_count": 16,
     "metadata": {},
     "output_type": "execute_result"
    }
   ],
   "source": [
    "anc_salaire = pd.pivot_table(data = new_df, index = \"job_title\", values = \"salary_in_usd\",\n",
    "                                  aggfunc = np.mean)\n",
    "\n",
    "anc_salaire"
   ]
  },
  {
   "cell_type": "code",
   "execution_count": 17,
   "id": "e699ecc2",
   "metadata": {},
   "outputs": [],
   "source": [
    "anc_sl_np = anc_salaire.to_numpy()\n",
    "anc_sl_top = anc_sl_np[:5]"
   ]
  },
  {
   "cell_type": "code",
   "execution_count": 18,
   "id": "01f912a2",
   "metadata": {},
   "outputs": [
    {
     "data": {
      "text/plain": [
       "[35, 65, 115, 148, 193]"
      ]
     },
     "execution_count": 18,
     "metadata": {},
     "output_type": "execute_result"
    }
   ],
   "source": [
    "top_5_job"
   ]
  },
  {
   "cell_type": "code",
   "execution_count": 19,
   "id": "0d5891dd",
   "metadata": {},
   "outputs": [
    {
     "data": {
      "image/png": "[encoded data removed]",
      "text/plain": [
       "<Figure size 1000x700 with 1 Axes>"
      ]
     },
     "metadata": {},
     "output_type": "display_data"
    }
   ],
   "source": [
    "job_x = new_df[\"job_title\"].value_counts()\n",
    "sorted_job = sorted(job_x, reverse=False)\n",
    "top_5_job = sorted_job[-5:]\n",
    "name = [\"Data Science Manager\",  \"ML Engineer\", \"Data Analyst\", \"Data Engineer\", \"Data Scientist\"]\n",
    "colors = sns.color_palette(\"hls\", 8)\n",
    "\n",
    "\n",
    "fig, ax = plt.subplots(figsize = (10, 7))\n",
    "\n",
    "ax.bar(name, top_5_job, color = colors)\n",
    "\n",
    "ax.set_title(\"Nombre de salariés des métiers les plus représentés\")\n",
    "ax.set_ylabel(\"Nombre de Salariés\")\n",
    "ax.set_xlabel(\"Job\")\n",
    "plt.tick_params(axis = 'both', labelsize = 8)\n",
    "\n",
    "\n",
    "def autolabel(rects):\n",
    "    for rect in rects:\n",
    "        height = int(rect.get_height())\n",
    "        ax.annotate('{}'.format(height),\n",
    "                 xy=(rect.get_x() + rect.get_width()/2., 1 * height),\n",
    "                 xytext=(0, 3), # 3 points vertical offset\n",
    "                 textcoords=\"offset points\",\n",
    "                 ha='center', va='bottom')\n",
    "        \n",
    "\n",
    "\n",
    "\n",
    "plt.show()"
   ]
  },
  {
   "cell_type": "markdown",
   "id": "da7fe175",
   "metadata": {},
   "source": [
    "Moyenne des salaires en fonction de l'expérience du salarié"
   ]
  },
  {
   "cell_type": "code",
   "execution_count": 20,
   "id": "3bb37c55",
   "metadata": {},
   "outputs": [
    {
     "data": {
      "text/html": [
       "<div>\n",
       "<style scoped>\n",
       "    .dataframe tbody tr th:only-of-type {\n",
       "        vertical-align: middle;\n",
       "    }\n",
       "\n",
       "    .dataframe tbody tr th {\n",
       "        vertical-align: top;\n",
       "    }\n",
       "\n",
       "    .dataframe thead th {\n",
       "        text-align: right;\n",
       "    }\n",
       "</style>\n",
       "<table border=\"1\" class=\"dataframe\">\n",
       "  <thead>\n",
       "    <tr style=\"text-align: right;\">\n",
       "      <th>experience_level</th>\n",
       "      <th>Director</th>\n",
       "      <th>Expert</th>\n",
       "      <th>Intermediate</th>\n",
       "      <th>Junior</th>\n",
       "    </tr>\n",
       "    <tr>\n",
       "      <th>job_title</th>\n",
       "      <th></th>\n",
       "      <th></th>\n",
       "      <th></th>\n",
       "      <th></th>\n",
       "    </tr>\n",
       "  </thead>\n",
       "  <tbody>\n",
       "    <tr>\n",
       "      <th>Data Analyst</th>\n",
       "      <td>120000.0</td>\n",
       "      <td>111922.629630</td>\n",
       "      <td>71699.206897</td>\n",
       "      <td>53960.666667</td>\n",
       "    </tr>\n",
       "    <tr>\n",
       "      <th>Data Engineer</th>\n",
       "      <td>245500.0</td>\n",
       "      <td>137035.841270</td>\n",
       "      <td>85985.660377</td>\n",
       "      <td>58933.500000</td>\n",
       "    </tr>\n",
       "    <tr>\n",
       "      <th>Data Scientist</th>\n",
       "      <td>NaN</td>\n",
       "      <td>152971.016393</td>\n",
       "      <td>82039.133333</td>\n",
       "      <td>55330.909091</td>\n",
       "    </tr>\n",
       "    <tr>\n",
       "      <th>Machine Learning Engineer</th>\n",
       "      <td>NaN</td>\n",
       "      <td>131176.000000</td>\n",
       "      <td>74466.583333</td>\n",
       "      <td>86996.333333</td>\n",
       "    </tr>\n",
       "    <tr>\n",
       "      <th>Research Scientist</th>\n",
       "      <td>NaN</td>\n",
       "      <td>88859.400000</td>\n",
       "      <td>136498.142857</td>\n",
       "      <td>86132.000000</td>\n",
       "    </tr>\n",
       "  </tbody>\n",
       "</table>\n",
       "</div>"
      ],
      "text/plain": [
       "experience_level           Director         Expert   Intermediate  \\\n",
       "job_title                                                           \n",
       "Data Analyst               120000.0  111922.629630   71699.206897   \n",
       "Data Engineer              245500.0  137035.841270   85985.660377   \n",
       "Data Scientist                  NaN  152971.016393   82039.133333   \n",
       "Machine Learning Engineer       NaN  131176.000000   74466.583333   \n",
       "Research Scientist              NaN   88859.400000  136498.142857   \n",
       "\n",
       "experience_level                 Junior  \n",
       "job_title                                \n",
       "Data Analyst               53960.666667  \n",
       "Data Engineer              58933.500000  \n",
       "Data Scientist             55330.909091  \n",
       "Machine Learning Engineer  86996.333333  \n",
       "Research Scientist         86132.000000  "
      ]
     },
     "execution_count": 20,
     "metadata": {},
     "output_type": "execute_result"
    }
   ],
   "source": [
    "df_mean_salary = df.loc[(df['job_title'] == \"Data Scientist\") | (df['job_title'] == \"Data Engineer\") | (df['job_title'] == \"Data Analyst\")\n",
    "      | (df['job_title'] == \"Machine Learning Engineer\") | (df['job_title'] == \"Research Scientist\")]\n",
    "\n",
    "anc_pivot = pd.pivot_table(data = df_mean_salary, index = \"job_title\", columns = \"experience_level\", values = \"salary_in_usd\",\n",
    "                                  aggfunc = np.mean)\n",
    "\n",
    "anc_pivot"
   ]
  },
  {
   "cell_type": "code",
   "execution_count": 21,
   "id": "9d883974",
   "metadata": {},
   "outputs": [],
   "source": [
    "anc_np = anc_pivot.to_numpy()\n",
    "\n",
    "anc_DA = anc_np[0, :]\n",
    "anc_DE = anc_np[1, :]\n",
    "anc_DS = list(anc_np[2, :])\n",
    "anc_DS[0] = 0\n",
    "anc_MLE = anc_np[3, :]\n",
    "anc_RS = anc_np[4, :]\n",
    "\n",
    "job_label = [\"Data Analyst\", \"Data Engineer\", \"Data Scientist\"]\n",
    "anc_label = [\"Director\", \"Expert\", \"Intermediate\", \"Junior\"]\n",
    "anc_c_DA = [\"#C79FEF\"]\n",
    "anc_c_DE = [\"#13EAC9\"]\n",
    "anc_c_DS = [\"#FF7F50\"]\n",
    "anc_c_MLE = [\"#FFFFCB\"]\n",
    "anc_c_RS = [\"#C5C9C7\"]"
   ]
  },
  {
   "cell_type": "code",
   "execution_count": 22,
   "id": "d9cfbb8c",
   "metadata": {
    "scrolled": false
   },
   "outputs": [
    {
     "data": {
      "image/png": "[encoded data removed]",
      "text/plain": [
       "<Figure size 1000x700 with 1 Axes>"
      ]
     },
     "metadata": {},
     "output_type": "display_data"
    }
   ],
   "source": [
    "x = np.arange(len(anc_label))  # the label locations\n",
    "width = 0.3  # the width of the bars\n",
    "\n",
    "fig, ax = plt.subplots(figsize = (10, 7))\n",
    "\n",
    "rects1 = ax.bar(x - width, anc_DA, width, label='Data Analyst', color = anc_c_DA)\n",
    "rects2 = ax.bar(x + width/60, anc_DE, width, label='Data Engineer', color = anc_c_DE)\n",
    "rects3 = ax.bar(x + width/0.97, anc_DS, width, label='Data Scientist', color = anc_c_DS)\n",
    "# rects4 = ax.bar(x + width/2, anc_MLE, width, label='Machine Learning Engineer', color = anc_c_MLE)\n",
    "# rects5 = ax.bar(x + width/2, anc_RS, width, label='Research Scientist', color = anc_c_RS)\n",
    "\n",
    "# Add some text for labels, title and custom x-axis tick labels, etc.\n",
    "ax.set_ylabel('Moyenne des salaires')\n",
    "ax.set_xlabel(\"niveau d'expertise\")\n",
    "ax.set_title(\"Moyenne des salaires par job en fonction de l'expérience des salariés\")\n",
    "ax.set_xticks(x)\n",
    "ax.set_xticklabels(anc_label)\n",
    "ax.legend()\n",
    "\n",
    "\n",
    "# def autolabel(rects):\n",
    "#     \"\"\"Attach a text label above each bar in *rects*, displaying its height.\"\"\"\n",
    "#     for rect in rects:\n",
    "#         height = rect.get_height()\n",
    "#         ax.annotate('{}'.format(height),\n",
    "#                     xy=(rect.get_x() + rect.get_width() / 2, height),\n",
    "#                     xytext=(0, 3),  # 3 points vertical offset\n",
    "#                     textcoords=\"offset points\",\n",
    "#                     ha='center', va='bottom')\n",
    "\n",
    "\n",
    "def autolabel(rects):\n",
    "    for rect in rects:\n",
    "        height = int(rect.get_height())\n",
    "        ax.annotate('{}'.format(height),\n",
    "                 xy=(rect.get_x() + rect.get_width()/2., 1 * height),\n",
    "                 xytext=(0, 3), # 3 points vertical offset\n",
    "                 textcoords=\"offset points\",\n",
    "                 ha='center', va='bottom')\n",
    "\n",
    "autolabel(rects1)\n",
    "autolabel(rects2)\n",
    "autolabel(rects3)\n",
    "# autolabel(rects4)\n",
    "# autolabel(rects5)\n",
    "\n",
    "fig.tight_layout()\n",
    "\n",
    "plt.show()"
   ]
  },
  {
   "cell_type": "markdown",
   "id": "a52ce92b",
   "metadata": {},
   "source": []
  },
  {
   "cell_type": "markdown",
   "id": "19c26c42",
   "metadata": {},
   "source": [
    "Donnut chart pour voir la proportion de salarié en fonction de leur type de Contrat"
   ]
  },
  {
   "cell_type": "code",
   "execution_count": 23,
   "id": "3b75cd12",
   "metadata": {},
   "outputs": [
    {
     "data": {
      "text/plain": [
       "Text(0.5, 1.0, 'Proportion des salariés en fonction de leur type de contrat')"
      ]
     },
     "execution_count": 23,
     "metadata": {},
     "output_type": "execute_result"
    },
    {
     "data": {
      "image/png": "[encoded data removed]",
      "text/plain": [
       "<Figure size 640x480 with 1 Axes>"
      ]
     },
     "metadata": {},
     "output_type": "display_data"
    }
   ],
   "source": [
    "job_emp = df[\"employment_type\"].value_counts()\n",
    "job_emp_label = [\"full time\", \"\", \"\", \"\"]\n",
    "job_emp_color = [\"#000080\", \"#7BC8F6\", \"#06C2AC\", \"#DBB40C\"]\n",
    "\n",
    "fig, ax = plt.subplots()\n",
    "\n",
    "ax.pie(job_emp, colors = job_emp_color, labels= job_emp_label, shadow=True,\n",
    "      startangle=90)\n",
    "\n",
    "# Changing the pie chart to dont chart\n",
    "\n",
    "centre_circle = plt.Circle((0,0),0.60,fc='white')\n",
    "fig = plt.gcf()\n",
    "fig.gca().add_artist(centre_circle)\n",
    "\n",
    "ax.set_title(\"Proportion des salariés en fonction de leur type de contrat\")"
   ]
  },
  {
   "cell_type": "markdown",
   "id": "b65cadd4",
   "metadata": {},
   "source": [
    "Count plot qui montre le total de salariés en fonction de leur experience"
   ]
  },
  {
   "cell_type": "code",
   "execution_count": 24,
   "id": "647f42c3",
   "metadata": {},
   "outputs": [
    {
     "data": {
      "text/plain": [
       "<AxesSubplot:xlabel='experience_level', ylabel='count'>"
      ]
     },
     "execution_count": 24,
     "metadata": {},
     "output_type": "execute_result"
    },
    {
     "data": {
      "image/png": "[encoded data removed]",
      "text/plain": [
       "<Figure size 640x480 with 1 Axes>"
      ]
     },
     "metadata": {},
     "output_type": "display_data"
    }
   ],
   "source": [
    "sns.countplot(data = df, x= \"experience_level\")"
   ]
  },
  {
   "cell_type": "markdown",
   "id": "6e80d5eb",
   "metadata": {},
   "source": [
    "Count plot qui montre la total de salarié en fonction de leur remote_ratio"
   ]
  },
  {
   "cell_type": "code",
   "execution_count": 25,
   "id": "3bbe8711",
   "metadata": {
    "scrolled": false
   },
   "outputs": [
    {
     "data": {
      "text/plain": [
       "<AxesSubplot:xlabel='remote_ratio', ylabel='count'>"
      ]
     },
     "execution_count": 25,
     "metadata": {},
     "output_type": "execute_result"
    },
    {
     "data": {
      "image/png": "[encoded data removed]",
      "text/plain": [
       "<Figure size 640x480 with 1 Axes>"
      ]
     },
     "metadata": {},
     "output_type": "display_data"
    }
   ],
   "source": [
    "sns.countplot(data = df, x= \"remote_ratio\")"
   ]
  },
  {
   "cell_type": "markdown",
   "id": "2acbe53f",
   "metadata": {},
   "source": [
    "Le nombre de salariés en fonction de la location de la company et de l'expérience des salariés"
   ]
  },
  {
   "cell_type": "code",
   "execution_count": 26,
   "id": "861ae3ff",
   "metadata": {},
   "outputs": [],
   "source": [
    "# Top 5 Compagny\n",
    "df_top_5_compagny = df.loc[(df['Company_location']==\"United Kingdom\")|(df['Company_location']== \"Canada\")|\n",
    "                           (df['Company_location']==\"Germany\")|(df['Company_location']==\"India\")|\n",
    "                           (df['Company_location']==\"France\")]"
   ]
  },
  {
   "cell_type": "code",
   "execution_count": 27,
   "id": "219a6061",
   "metadata": {},
   "outputs": [
    {
     "data": {
      "text/plain": [
       "Text(0.5, 1.0, \"Le nombre de salariés en fonction de la location de la company et de l'expérience des salariés\")"
      ]
     },
     "execution_count": 27,
     "metadata": {},
     "output_type": "execute_result"
    },
    {
     "data": {
      "image/png": "[encoded data removed]",
      "text/plain": [
       "<Figure size 640x480 with 1 Axes>"
      ]
     },
     "metadata": {},
     "output_type": "display_data"
    }
   ],
   "source": [
    "fig, ax = plt.subplots()\n",
    "\n",
    "sns.countplot(data = df_top_5_compagny, x = \"Company_location\", hue = \"experience_level\")\n",
    "\n",
    "ax.set_title(\"Le nombre de salariés en fonction de la location de la company et de l'expérience des salariés\")"
   ]
  },
  {
   "cell_type": "markdown",
   "id": "ff6f4129",
   "metadata": {},
   "source": [
    "Il serait intéressant de voir si être en présentielle ou à distance dépend de notre job, un bar plot serait parfait pour ça"
   ]
  },
  {
   "cell_type": "code",
   "execution_count": 28,
   "id": "a8c77dd3",
   "metadata": {},
   "outputs": [
    {
     "data": {
      "text/html": [
       "<div>\n",
       "<style scoped>\n",
       "    .dataframe tbody tr th:only-of-type {\n",
       "        vertical-align: middle;\n",
       "    }\n",
       "\n",
       "    .dataframe tbody tr th {\n",
       "        vertical-align: top;\n",
       "    }\n",
       "\n",
       "    .dataframe thead th {\n",
       "        text-align: right;\n",
       "    }\n",
       "</style>\n",
       "<table border=\"1\" class=\"dataframe\">\n",
       "  <thead>\n",
       "    <tr style=\"text-align: right;\">\n",
       "      <th>remote_ratio</th>\n",
       "      <th>0</th>\n",
       "      <th>50</th>\n",
       "      <th>100</th>\n",
       "    </tr>\n",
       "    <tr>\n",
       "      <th>job_title</th>\n",
       "      <th></th>\n",
       "      <th></th>\n",
       "      <th></th>\n",
       "    </tr>\n",
       "  </thead>\n",
       "  <tbody>\n",
       "    <tr>\n",
       "      <th>Data Analyst</th>\n",
       "      <td>84203.347826</td>\n",
       "      <td>51239.272727</td>\n",
       "      <td>101653.419753</td>\n",
       "    </tr>\n",
       "    <tr>\n",
       "      <th>Data Analytics Manager</th>\n",
       "      <td>120000.000000</td>\n",
       "      <td>NaN</td>\n",
       "      <td>141379.083333</td>\n",
       "    </tr>\n",
       "    <tr>\n",
       "      <th>Data Architect</th>\n",
       "      <td>54957.000000</td>\n",
       "      <td>94498.500000</td>\n",
       "      <td>176384.416667</td>\n",
       "    </tr>\n",
       "    <tr>\n",
       "      <th>Data Engineer</th>\n",
       "      <td>96914.363636</td>\n",
       "      <td>68242.071429</td>\n",
       "      <td>119813.128713</td>\n",
       "    </tr>\n",
       "    <tr>\n",
       "      <th>Data Science Manager</th>\n",
       "      <td>173549.428571</td>\n",
       "      <td>141152.800000</td>\n",
       "      <td>184314.565217</td>\n",
       "    </tr>\n",
       "    <tr>\n",
       "      <th>Data Scientist</th>\n",
       "      <td>105253.936170</td>\n",
       "      <td>69975.238095</td>\n",
       "      <td>116478.490385</td>\n",
       "    </tr>\n",
       "    <tr>\n",
       "      <th>Lead Data Engineer</th>\n",
       "      <td>180333.333333</td>\n",
       "      <td>101350.750000</td>\n",
       "      <td>179343.833333</td>\n",
       "    </tr>\n",
       "    <tr>\n",
       "      <th>ML Engineer</th>\n",
       "      <td>135155.900000</td>\n",
       "      <td>107746.947368</td>\n",
       "      <td>111193.083333</td>\n",
       "    </tr>\n",
       "    <tr>\n",
       "      <th>Machine Learning Manager</th>\n",
       "      <td>87932.000000</td>\n",
       "      <td>98071.500000</td>\n",
       "      <td>NaN</td>\n",
       "    </tr>\n",
       "  </tbody>\n",
       "</table>\n",
       "</div>"
      ],
      "text/plain": [
       "remote_ratio                        0              50             100\n",
       "job_title                                                            \n",
       "Data Analyst               84203.347826   51239.272727  101653.419753\n",
       "Data Analytics Manager    120000.000000            NaN  141379.083333\n",
       "Data Architect             54957.000000   94498.500000  176384.416667\n",
       "Data Engineer              96914.363636   68242.071429  119813.128713\n",
       "Data Science Manager      173549.428571  141152.800000  184314.565217\n",
       "Data Scientist            105253.936170   69975.238095  116478.490385\n",
       "Lead Data Engineer        180333.333333  101350.750000  179343.833333\n",
       "ML Engineer               135155.900000  107746.947368  111193.083333\n",
       "Machine Learning Manager   87932.000000   98071.500000            NaN"
      ]
     },
     "execution_count": 28,
     "metadata": {},
     "output_type": "execute_result"
    }
   ],
   "source": [
    "ratio_pivot = pd.pivot_table(data = new_df, index = \"job_title\", columns = \"remote_ratio\", values = \"salary_in_usd\",\n",
    "                                  aggfunc = np.mean)\n",
    "\n",
    "ratio_pivot"
   ]
  },
  {
   "cell_type": "markdown",
   "id": "489c083d",
   "metadata": {},
   "source": [
    "Carte "
   ]
  },
  {
   "cell_type": "code",
   "execution_count": 29,
   "id": "9a997b93",
   "metadata": {},
   "outputs": [
    {
     "ename": "ModuleNotFoundError",
     "evalue": "No module named 'dataprep'",
     "output_type": "error",
     "traceback": [
      "\u001b[0;31m---------------------------------------------------------------------------\u001b[0m",
      "\u001b[0;31mModuleNotFoundError\u001b[0m                       Traceback (most recent call last)",
      "Cell \u001b[0;32mIn [29], line 1\u001b[0m\n\u001b[0;32m----> 1\u001b[0m \u001b[38;5;28;01mfrom\u001b[39;00m \u001b[38;5;21;01mdataprep\u001b[39;00m\u001b[38;5;21;01m.\u001b[39;00m\u001b[38;5;21;01mclean\u001b[39;00m \u001b[38;5;28;01mimport\u001b[39;00m clean_country\n\u001b[1;32m      3\u001b[0m data_countried \u001b[38;5;241m=\u001b[39m clean_country(df,\u001b[38;5;124m'\u001b[39m\u001b[38;5;124memployee_residence\u001b[39m\u001b[38;5;124m'\u001b[39m, output_format\u001b[38;5;241m=\u001b[39m\u001b[38;5;124m'\u001b[39m\u001b[38;5;124malpha-3\u001b[39m\u001b[38;5;124m'\u001b[39m)\n\u001b[1;32m      4\u001b[0m data_countried \u001b[38;5;241m=\u001b[39m clean_country(data_countried,\u001b[38;5;124m'\u001b[39m\u001b[38;5;124mCompany_location\u001b[39m\u001b[38;5;124m'\u001b[39m, output_format\u001b[38;5;241m=\u001b[39m\u001b[38;5;124m'\u001b[39m\u001b[38;5;124malpha-3\u001b[39m\u001b[38;5;124m'\u001b[39m)\n",
      "\u001b[0;31mModuleNotFoundError\u001b[0m: No module named 'dataprep'"
     ]
    }
   ],
   "source": [
    "from dataprep.clean import clean_country\n",
    "\n",
    "data_countried = clean_country(df,'employee_residence', output_format='alpha-3')\n",
    "data_countried = clean_country(data_countried,'Company_location', output_format='alpha-3')\n",
    "data_countried = data_countried.drop(['employee_residence','Company_location'],axis=1)"
   ]
  },
  {
   "cell_type": "code",
   "execution_count": null,
   "id": "ddcd531f",
   "metadata": {},
   "outputs": [],
   "source": [
    "employ_res = data_countried.groupby(['employee_residence_clean']).mean()\n",
    "fig = go.Figure(data=go.Choropleth(\n",
    "    locations = employ_res.index,\n",
    "    z = employ_res['salary_in_usd'],\n",
    "    colorscale = 'Viridis',reversescale = True\n",
    "))\n",
    "fig.update_layout(\n",
    "    title_text = 'Moyenne des salaires par localisation des employées',\n",
    "    geo_scope='world', \n",
    ")\n",
    "fig.show()"
   ]
  },
  {
   "cell_type": "markdown",
   "id": "7745627c",
   "metadata": {},
   "source": [
    "Carte avec le nombre de salairés par pays"
   ]
  },
  {
   "cell_type": "markdown",
   "id": "2eac48d4",
   "metadata": {},
   "source": [
    "Bar plot avec la moyenne de salaire par pays"
   ]
  }
 ],
 "metadata": {
  "kernelspec": {
   "display_name": "Python 3 (ipykernel)",
   "language": "python",
   "name": "python3"
  },
  "language_info": {
   "codemirror_mode": {
    "name": "ipython",
    "version": 3
   },
   "file_extension": ".py",
   "mimetype": "text/x-python",
   "name": "python",
   "nbconvert_exporter": "python",
   "pygments_lexer": "ipython3",
   "version": "3.8.12"
  },
  "toc": {
   "base_numbering": 1,
   "nav_menu": {},
   "number_sections": true,
   "sideBar": true,
   "skip_h1_title": false,
   "title_cell": "Table of Contents",
   "title_sidebar": "Contents",
   "toc_cell": false,
   "toc_position": {},
   "toc_section_display": true,
   "toc_window_display": false
  }
 },
 "nbformat": 4,
 "nbformat_minor": 5
}
